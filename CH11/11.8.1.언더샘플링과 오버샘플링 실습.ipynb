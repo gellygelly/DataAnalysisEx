{
 "cells": [
  {
   "cell_type": "code",
   "execution_count": 2,
   "metadata": {},
   "outputs": [
    {
     "name": "stdout",
     "output_type": "stream",
     "text": [
      "Requirement already satisfied: imbalanced-learn==0.7.0 in d:\\dev\\dataanalysisex\\venv\\lib\\site-packages (0.7.0)\n",
      "Requirement already satisfied: numpy>=1.13.3 in d:\\dev\\dataanalysisex\\venv\\lib\\site-packages (from imbalanced-learn==0.7.0) (1.24.4)\n",
      "Requirement already satisfied: scipy>=0.19.1 in d:\\dev\\dataanalysisex\\venv\\lib\\site-packages (from imbalanced-learn==0.7.0) (1.10.1)\n",
      "Requirement already satisfied: scikit-learn>=0.23 in d:\\dev\\dataanalysisex\\venv\\lib\\site-packages (from imbalanced-learn==0.7.0) (1.3.2)\n",
      "Requirement already satisfied: joblib>=0.11 in d:\\dev\\dataanalysisex\\venv\\lib\\site-packages (from imbalanced-learn==0.7.0) (1.4.0)\n",
      "Requirement already satisfied: threadpoolctl>=2.0.0 in d:\\dev\\dataanalysisex\\venv\\lib\\site-packages (from scikit-learn>=0.23->imbalanced-learn==0.7.0) (3.4.0)\n"
     ]
    }
   ],
   "source": [
    "!pip install imbalanced-learn==0.7.0\n",
    "from sklearn.model_selection import train_test_split\n",
    "from imblearn.under_sampling import *\n",
    "from imblearn.over_sampling import SMOTE\n",
    "import seaborn as sns\n",
    "import matplotlib.pyplot as plt\n",
    "import pandas as pd"
   ]
  },
  {
   "cell_type": "code",
   "execution_count": 6,
   "metadata": {},
   "outputs": [
    {
     "data": {
      "text/html": [
       "<div>\n",
       "<style scoped>\n",
       "    .dataframe tbody tr th:only-of-type {\n",
       "        vertical-align: middle;\n",
       "    }\n",
       "\n",
       "    .dataframe tbody tr th {\n",
       "        vertical-align: top;\n",
       "    }\n",
       "\n",
       "    .dataframe thead th {\n",
       "        text-align: right;\n",
       "    }\n",
       "</style>\n",
       "<table border=\"1\" class=\"dataframe\">\n",
       "  <thead>\n",
       "    <tr style=\"text-align: right;\">\n",
       "      <th></th>\n",
       "      <th>User ID</th>\n",
       "      <th>Gender</th>\n",
       "      <th>Age</th>\n",
       "      <th>EstimatedSalary</th>\n",
       "      <th>Purchased</th>\n",
       "    </tr>\n",
       "  </thead>\n",
       "  <tbody>\n",
       "    <tr>\n",
       "      <th>0</th>\n",
       "      <td>15624510</td>\n",
       "      <td>Male</td>\n",
       "      <td>19</td>\n",
       "      <td>19000</td>\n",
       "      <td>0</td>\n",
       "    </tr>\n",
       "    <tr>\n",
       "      <th>1</th>\n",
       "      <td>15810944</td>\n",
       "      <td>Male</td>\n",
       "      <td>35</td>\n",
       "      <td>20000</td>\n",
       "      <td>0</td>\n",
       "    </tr>\n",
       "    <tr>\n",
       "      <th>2</th>\n",
       "      <td>15668575</td>\n",
       "      <td>Female</td>\n",
       "      <td>26</td>\n",
       "      <td>43000</td>\n",
       "      <td>0</td>\n",
       "    </tr>\n",
       "    <tr>\n",
       "      <th>3</th>\n",
       "      <td>15603246</td>\n",
       "      <td>Female</td>\n",
       "      <td>27</td>\n",
       "      <td>57000</td>\n",
       "      <td>0</td>\n",
       "    </tr>\n",
       "    <tr>\n",
       "      <th>4</th>\n",
       "      <td>15804002</td>\n",
       "      <td>Male</td>\n",
       "      <td>19</td>\n",
       "      <td>76000</td>\n",
       "      <td>0</td>\n",
       "    </tr>\n",
       "  </tbody>\n",
       "</table>\n",
       "</div>"
      ],
      "text/plain": [
       "    User ID  Gender  Age  EstimatedSalary  Purchased\n",
       "0  15624510    Male   19            19000          0\n",
       "1  15810944    Male   35            20000          0\n",
       "2  15668575  Female   26            43000          0\n",
       "3  15603246  Female   27            57000          0\n",
       "4  15804002    Male   19            76000          0"
      ]
     },
     "execution_count": 6,
     "metadata": {},
     "output_type": "execute_result"
    }
   ],
   "source": [
    "df = pd.read_csv('../datasets/Social_Network_Ads.csv')\n",
    "\n",
    "df.head()"
   ]
  },
  {
   "cell_type": "code",
   "execution_count": 5,
   "metadata": {},
   "outputs": [
    {
     "name": "stdout",
     "output_type": "stream",
     "text": [
      "<class 'pandas.core.frame.DataFrame'>\n",
      "RangeIndex: 400 entries, 0 to 399\n",
      "Data columns (total 5 columns):\n",
      " #   Column           Non-Null Count  Dtype \n",
      "---  ------           --------------  ----- \n",
      " 0   User ID          400 non-null    int64 \n",
      " 1   Gender           400 non-null    object\n",
      " 2   Age              400 non-null    int64 \n",
      " 3   EstimatedSalary  400 non-null    int64 \n",
      " 4   Purchased        400 non-null    int64 \n",
      "dtypes: int64(4), object(1)\n",
      "memory usage: 15.8+ KB\n"
     ]
    }
   ],
   "source": [
    "df.info()"
   ]
  },
  {
   "cell_type": "code",
   "execution_count": 7,
   "metadata": {},
   "outputs": [
    {
     "data": {
      "image/png": "[encoded data removed]",
      "text/plain": [
       "<Figure size 640x480 with 1 Axes>"
      ]
     },
     "metadata": {},
     "output_type": "display_data"
    }
   ],
   "source": [
    "\n",
    "# Purchased 칼럼 클래스 분포 시각화\n",
    "sns.countplot(x='Purchased', data=df)\n",
    "plt.show()"
   ]
  },
  {
   "cell_type": "code",
   "execution_count": 8,
   "metadata": {},
   "outputs": [
    {
     "data": {
      "text/html": [
       "<div>\n",
       "<style scoped>\n",
       "    .dataframe tbody tr th:only-of-type {\n",
       "        vertical-align: middle;\n",
       "    }\n",
       "\n",
       "    .dataframe tbody tr th {\n",
       "        vertical-align: top;\n",
       "    }\n",
       "\n",
       "    .dataframe thead th {\n",
       "        text-align: right;\n",
       "    }\n",
       "</style>\n",
       "<table border=\"1\" class=\"dataframe\">\n",
       "  <thead>\n",
       "    <tr style=\"text-align: right;\">\n",
       "      <th></th>\n",
       "      <th>User ID</th>\n",
       "      <th>Age</th>\n",
       "      <th>EstimatedSalary</th>\n",
       "      <th>Purchased</th>\n",
       "      <th>Male</th>\n",
       "    </tr>\n",
       "  </thead>\n",
       "  <tbody>\n",
       "    <tr>\n",
       "      <th>0</th>\n",
       "      <td>15624510</td>\n",
       "      <td>19</td>\n",
       "      <td>19000</td>\n",
       "      <td>0</td>\n",
       "      <td>True</td>\n",
       "    </tr>\n",
       "    <tr>\n",
       "      <th>1</th>\n",
       "      <td>15810944</td>\n",
       "      <td>35</td>\n",
       "      <td>20000</td>\n",
       "      <td>0</td>\n",
       "      <td>True</td>\n",
       "    </tr>\n",
       "    <tr>\n",
       "      <th>2</th>\n",
       "      <td>15668575</td>\n",
       "      <td>26</td>\n",
       "      <td>43000</td>\n",
       "      <td>0</td>\n",
       "      <td>False</td>\n",
       "    </tr>\n",
       "    <tr>\n",
       "      <th>3</th>\n",
       "      <td>15603246</td>\n",
       "      <td>27</td>\n",
       "      <td>57000</td>\n",
       "      <td>0</td>\n",
       "      <td>False</td>\n",
       "    </tr>\n",
       "    <tr>\n",
       "      <th>4</th>\n",
       "      <td>15804002</td>\n",
       "      <td>19</td>\n",
       "      <td>76000</td>\n",
       "      <td>0</td>\n",
       "      <td>True</td>\n",
       "    </tr>\n",
       "  </tbody>\n",
       "</table>\n",
       "</div>"
      ],
      "text/plain": [
       "    User ID  Age  EstimatedSalary  Purchased   Male\n",
       "0  15624510   19            19000          0   True\n",
       "1  15810944   35            20000          0   True\n",
       "2  15668575   26            43000          0  False\n",
       "3  15603246   27            57000          0  False\n",
       "4  15804002   19            76000          0   True"
      ]
     },
     "execution_count": 8,
     "metadata": {},
     "output_type": "execute_result"
    }
   ],
   "source": [
    "# Gender 가변수 처리\n",
    "\n",
    "df_d= pd.get_dummies(df['Gender']) # 범주형 -> 수치형(원핫인코딩) 하는 함수\n",
    "df2 = pd.merge(df.drop(['Gender'], axis=1), df_d['Male'], left_index=True, right_index=True, how='inner')\n",
    "\n",
    "df2.head()\n"
   ]
  },
  {
   "cell_type": "code",
   "execution_count": 9,
   "metadata": {},
   "outputs": [
    {
     "data": {
      "text/html": [
       "<div>\n",
       "<style scoped>\n",
       "    .dataframe tbody tr th:only-of-type {\n",
       "        vertical-align: middle;\n",
       "    }\n",
       "\n",
       "    .dataframe tbody tr th {\n",
       "        vertical-align: top;\n",
       "    }\n",
       "\n",
       "    .dataframe thead th {\n",
       "        text-align: right;\n",
       "    }\n",
       "</style>\n",
       "<table border=\"1\" class=\"dataframe\">\n",
       "  <thead>\n",
       "    <tr style=\"text-align: right;\">\n",
       "      <th></th>\n",
       "      <th>User ID</th>\n",
       "      <th>Age</th>\n",
       "      <th>EstimatedSalary</th>\n",
       "      <th>Male</th>\n",
       "    </tr>\n",
       "  </thead>\n",
       "  <tbody>\n",
       "    <tr>\n",
       "      <th>57</th>\n",
       "      <td>15807481</td>\n",
       "      <td>28</td>\n",
       "      <td>79000</td>\n",
       "      <td>True</td>\n",
       "    </tr>\n",
       "    <tr>\n",
       "      <th>87</th>\n",
       "      <td>15631912</td>\n",
       "      <td>28</td>\n",
       "      <td>85000</td>\n",
       "      <td>False</td>\n",
       "    </tr>\n",
       "    <tr>\n",
       "      <th>357</th>\n",
       "      <td>15671387</td>\n",
       "      <td>41</td>\n",
       "      <td>72000</td>\n",
       "      <td>False</td>\n",
       "    </tr>\n",
       "    <tr>\n",
       "      <th>355</th>\n",
       "      <td>15606472</td>\n",
       "      <td>60</td>\n",
       "      <td>34000</td>\n",
       "      <td>True</td>\n",
       "    </tr>\n",
       "    <tr>\n",
       "      <th>238</th>\n",
       "      <td>15617877</td>\n",
       "      <td>46</td>\n",
       "      <td>82000</td>\n",
       "      <td>False</td>\n",
       "    </tr>\n",
       "  </tbody>\n",
       "</table>\n",
       "</div>"
      ],
      "text/plain": [
       "      User ID  Age  EstimatedSalary   Male\n",
       "57   15807481   28            79000   True\n",
       "87   15631912   28            85000  False\n",
       "357  15671387   41            72000  False\n",
       "355  15606472   60            34000   True\n",
       "238  15617877   46            82000  False"
      ]
     },
     "execution_count": 9,
     "metadata": {},
     "output_type": "execute_result"
    }
   ],
   "source": [
    "# train test split\n",
    "X = df2.drop(['Purchased'], axis=1)\n",
    "y = df2[['Purchased']]\n",
    "\n",
    "X_train, X_test, y_train, y_test = train_test_split(X, y, test_size=0.25, random_state=10)\n",
    "X_train.head()"
   ]
  },
  {
   "cell_type": "code",
   "execution_count": 10,
   "metadata": {},
   "outputs": [
    {
     "name": "stdout",
     "output_type": "stream",
     "text": [
      "RandomUnderSampler 적용 전 train 변수/레이블 데이터셋: (300, 4) (300, 1)\n",
      "RandomUnderSampler 적용 후 train 변수/레이블 데이터셋: (224, 4) (224, 1)\n",
      "RandomUnderSampler 적용 전 레이블 값 분포: \n",
      " Purchased\n",
      "0    188\n",
      "1    112\n",
      "Name: count, dtype: int64\n",
      "RandomUnderSampler 적용 후 레이블 값 분포: \n",
      " Purchased\n",
      "0    112\n",
      "1    112\n",
      "Name: count, dtype: int64\n"
     ]
    }
   ],
   "source": [
    "# 언더샘플링 적용\n",
    "\n",
    "X_train_under, y_train_under = RandomUnderSampler(random_state=0).fit_resample(X_train, y_train)\n",
    "\n",
    "print('RandomUnderSampler 적용 전 train 변수/레이블 데이터셋:', X_train.shape, y_train.shape)\n",
    "print('RandomUnderSampler 적용 후 train 변수/레이블 데이터셋:', X_train_under.shape, y_train_under.shape)\n",
    "\n",
    "print('RandomUnderSampler 적용 전 레이블 값 분포: \\n', pd.Series(y_train['Purchased']).value_counts())\n",
    "print('RandomUnderSampler 적용 후 레이블 값 분포: \\n', pd.Series(y_train_under['Purchased']).value_counts())\n"
   ]
  },
  {
   "cell_type": "code",
   "execution_count": 11,
   "metadata": {},
   "outputs": [
    {
     "data": {
      "text/plain": [
       "<Axes: xlabel='Purchased', ylabel='count'>"
      ]
     },
     "execution_count": 11,
     "metadata": {},
     "output_type": "execute_result"
    },
    {
     "data": {
      "image/png": "[encoded data removed]",
      "text/plain": [
       "<Figure size 640x480 with 1 Axes>"
      ]
     },
     "metadata": {},
     "output_type": "display_data"
    }
   ],
   "source": [
    "# 언더샘플링 적용 후 Purchased 칼럼 클래스 분포 시각화\n",
    "sns.countplot(x='Purchased', data=y_train_under)"
   ]
  },
  {
   "cell_type": "code",
   "execution_count": 14,
   "metadata": {},
   "outputs": [
    {
     "name": "stdout",
     "output_type": "stream",
     "text": [
      "SMOTE 적용 전 학습용 변수/레이블 데이터 세트:  (300, 4) (300, 1)\n",
      "SMOTE 적용 후 학습용 변수/레이블 데이터 세트:  (376, 4) (376, 1)\n",
      "SMOTE 적용 전 레이블 값 분포: \n",
      " Purchased\n",
      "0    188\n",
      "1    112\n",
      "Name: count, dtype: int64\n",
      "SMOTE 적용 후 레이블 값 분포: \n",
      " Purchased\n",
      "0    188\n",
      "1    188\n",
      "Name: count, dtype: int64\n"
     ]
    }
   ],
   "source": [
    "# 오버샘플링 적용(SMOTE)\n",
    "\n",
    "smote = SMOTE(k_neighbors=2, random_state=0)\n",
    "oversample = SMOTE()\n",
    "\n",
    "X_train_over,y_train_over = smote.fit_resample(X_train,y_train)\n",
    "print('SMOTE 적용 전 학습용 변수/레이블 데이터 세트: '\n",
    "      , X_train.shape, y_train.shape)\n",
    "print('SMOTE 적용 후 학습용 변수/레이블 데이터 세트: '\n",
    "      , X_train_over.shape, y_train_over.shape)\n",
    "print('SMOTE 적용 전 레이블 값 분포: \\n'\n",
    "      , pd.Series(y_train['Purchased']).value_counts())\n",
    "print('SMOTE 적용 후 레이블 값 분포: \\n'\n",
    "      , pd.Series(y_train_over['Purchased']).value_counts())"
   ]
  },
  {
   "cell_type": "code",
   "execution_count": 15,
   "metadata": {},
   "outputs": [
    {
     "data": {
      "text/plain": [
       "<Axes: xlabel='Purchased', ylabel='count'>"
      ]
     },
     "execution_count": 15,
     "metadata": {},
     "output_type": "execute_result"
    },
    {
     "data": {
      "image/png": "[encoded data removed]",
      "text/plain": [
       "<Figure size 640x480 with 1 Axes>"
      ]
     },
     "metadata": {},
     "output_type": "display_data"
    }
   ],
   "source": [
    "\n",
    "# 오버샘플링 적용 후 Purchased 칼럼 클래스 분포 시각화\n",
    "sns.countplot(x='Purchased', data=y_train_over)"
   ]
  }
 ],
 "metadata": {
  "kernelspec": {
   "display_name": "venv",
   "language": "python",
   "name": "python3"
  },
  "language_info": {
   "codemirror_mode": {
    "name": "ipython",
    "version": 3
   },
   "file_extension": ".py",
   "mimetype": "text/x-python",
   "name": "python",
   "nbconvert_exporter": "python",
   "pygments_lexer": "ipython3",
   "version": "3.8.8"
  }
 },
 "nbformat": 4,
 "nbformat_minor": 2
}
